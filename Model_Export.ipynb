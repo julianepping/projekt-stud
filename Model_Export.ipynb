{
  "cells": [
    {
      "cell_type": "markdown",
      "metadata": {
        "id": "view-in-github",
        "colab_type": "text"
      },
      "source": [
        "<a href=\"https://colab.research.google.com/github/julianepping/projekt-stud/blob/main/Model_Export.ipynb\" target=\"_parent\"><img src=\"https://colab.research.google.com/assets/colab-badge.svg\" alt=\"Open In Colab\"/></a>"
      ]
    },
    {
      "cell_type": "markdown",
      "source": [
        "Modell trainieren"
      ],
      "metadata": {
        "id": "ISF2_88rUpH7"
      }
    },
    {
      "cell_type": "code",
      "execution_count": null,
      "metadata": {
        "colab": {
          "base_uri": "https://localhost:8080/",
          "height": 699
        },
        "id": "9Yu0qr3zn2MZ",
        "outputId": "669079d6-7e5c-4fdc-cee6-a180740bb700"
      },
      "outputs": [
        {
          "output_type": "stream",
          "name": "stdout",
          "text": [
            "Downloading data from https://www.cs.toronto.edu/~kriz/cifar-10-python.tar.gz\n",
            "170500096/170498071 [==============================] - 3s 0us/step\n",
            "170508288/170498071 [==============================] - 3s 0us/step\n",
            "Epoch 1/10\n",
            "782/782 [==============================] - 21s 11ms/step - loss: 1.3932 - accuracy: 0.4972 - val_loss: 1.1929 - val_accuracy: 0.5713\n",
            "Epoch 2/10\n",
            "782/782 [==============================] - 7s 9ms/step - loss: 0.9910 - accuracy: 0.6492 - val_loss: 1.0220 - val_accuracy: 0.6469\n",
            "Epoch 3/10\n",
            "782/782 [==============================] - 7s 9ms/step - loss: 0.8331 - accuracy: 0.7103 - val_loss: 0.8347 - val_accuracy: 0.7180\n",
            "Epoch 4/10\n",
            "782/782 [==============================] - 7s 9ms/step - loss: 0.7463 - accuracy: 0.7397 - val_loss: 0.7983 - val_accuracy: 0.7285\n",
            "Epoch 5/10\n",
            "782/782 [==============================] - 7s 9ms/step - loss: 0.6775 - accuracy: 0.7640 - val_loss: 0.6793 - val_accuracy: 0.7650\n",
            "Epoch 6/10\n",
            "782/782 [==============================] - 7s 9ms/step - loss: 0.6276 - accuracy: 0.7815 - val_loss: 0.9452 - val_accuracy: 0.6871\n",
            "Epoch 7/10\n",
            "782/782 [==============================] - 8s 10ms/step - loss: 0.5852 - accuracy: 0.7951 - val_loss: 0.7397 - val_accuracy: 0.7454\n",
            "Epoch 8/10\n",
            "782/782 [==============================] - 8s 10ms/step - loss: 0.5443 - accuracy: 0.8096 - val_loss: 0.6281 - val_accuracy: 0.7890\n",
            "Epoch 9/10\n",
            "782/782 [==============================] - 8s 10ms/step - loss: 0.5141 - accuracy: 0.8192 - val_loss: 0.5961 - val_accuracy: 0.7967\n",
            "Epoch 10/10\n",
            "782/782 [==============================] - 8s 10ms/step - loss: 0.4853 - accuracy: 0.8302 - val_loss: 0.6306 - val_accuracy: 0.7878\n",
            "313/313 [==============================] - 1s 4ms/step - loss: 0.6306 - accuracy: 0.7878\n",
            "> 78.780\n"
          ]
        },
        {
          "output_type": "display_data",
          "data": {
            "text/plain": [
              "<Figure size 432x288 with 1 Axes>"
            ],
            "image/png": "[encoded data removed]"
          },
          "metadata": {
            "needs_background": "light"
          }
        }
      ],
      "source": [
        "#importing libraries\n",
        "import tensorflow as tf\n",
        "from tensorflow import keras\n",
        "import numpy as np\n",
        "import matplotlib.pyplot as plt\n",
        "import tf2onnx\n",
        "import onnx\n",
        "from tensorflow.keras import Sequential\n",
        "from tensorflow.keras.layers import Flatten, Dense, Dropout\n",
        "from tensorflow.keras.layers import BatchNormalization, Conv2D\n",
        "from tensorflow.keras.layers import MaxPool2D, Activation, MaxPooling2D\n",
        "\n",
        "#loading dataset\n",
        "cifar = keras.datasets.cifar10 \n",
        "(X_train, y_train), (X_test, y_test) = cifar.load_data()\n",
        "\n",
        "#defining labels\n",
        "label = ['Airplane', 'Automobile', 'Bird', 'Cat', 'Deer', \n",
        "            'Dog', 'Frog', 'Horse', 'Ship', 'Truck']\n",
        "\n",
        "#rescaling data between 0-1\n",
        "X_train = X_train/255.0\n",
        "X_test = X_test/255.0\n",
        "\n",
        "#buiding model\n",
        "model = Sequential()\n",
        "\n",
        "model.add(Conv2D(32,activation = 'relu',kernel_size = (3,3 )))\n",
        "model.add(BatchNormalization())\n",
        "model.add(Conv2D(32,activation = 'relu',kernel_size = (3,3 )))\n",
        "model.add(BatchNormalization())\n",
        "model.add(MaxPooling2D((2,2), padding='same'))\n",
        "model.add(Dropout(0.2))\n",
        "\n",
        "model.add(Conv2D(64,activation = 'relu',kernel_size = (3,3 )))\n",
        "model.add(BatchNormalization())\n",
        "model.add(Conv2D(64,activation = 'relu',kernel_size = (3,3 )))\n",
        "model.add(BatchNormalization())\n",
        "model.add(MaxPooling2D((2,2), padding='same'))\n",
        "model.add(Dropout(0.2))\n",
        "\n",
        "model.add(Conv2D(128,activation = 'relu',kernel_size = (3,3 )))\n",
        "model.add(BatchNormalization())\n",
        "model.add(Conv2D(128,activation = 'relu',kernel_size = (3,3 )))\n",
        "model.add(BatchNormalization())\n",
        "model.add(MaxPooling2D((2,2), padding='same'))\n",
        "\n",
        "model.add(Flatten(input_shape = (32,32,3)))\n",
        "model.add(Dropout(0.2))\n",
        "model.add(Dense(1024, activation = 'relu'))\n",
        "model.add(Dropout(0.2))\n",
        "model.add(Dense(10, activation = 'softmax'))\n",
        "\n",
        "#compilation of  model\n",
        "model.compile(optimizer = 'adam', loss = 'sparse_categorical_crossentropy',\n",
        "              metrics = ['accuracy'])\n",
        "              \n",
        "#fitting model\n",
        "history = model.fit(X_train, y_train, validation_data=(X_test, y_test), epochs=10, batch_size=64, verbose=1)\n",
        "\n",
        "# evaluate model\n",
        "_, acc = model.evaluate(X_test, y_test)\n",
        "print('> %.3f' % (acc * 100.0))\t\n",
        "\n",
        "\n",
        "#save modell\n",
        "input_signature = [tf.TensorSpec([None, 32, 32, 3], tf.float32, name='x')]\n",
        "onnx_model, _ = tf2onnx.convert.from_keras(model, input_signature)\n",
        "!mkdir -p saved_model\n",
        "onnx.save(onnx_model, \"saved_model/my_model\")\n",
        "\n",
        "\n",
        "plt.plot(history.history['accuracy'], label='acc', color='red')\n",
        "plt.plot(history.history['val_accuracy'], label='val_acc', color='green')\n",
        "plt.legend()\n",
        "\n",
        "\n"
      ]
    },
    {
      "cell_type": "markdown",
      "source": [
        "Wahrscheinlichkeiten zu einem Bild hervorsagen"
      ],
      "metadata": {
        "id": "Dk_OCr5EUOZF"
      }
    },
    {
      "cell_type": "code",
      "source": [
        "onnx_model = onnx.load(\"saved_model/my_model\")\n",
        "# predicting lable for test_images\n",
        "\n",
        "\n",
        "pic = 100\n",
        "\n",
        "plt.figure()\n",
        "plt.imshow(X_test[pic])\n",
        "\n",
        "j = 0\n",
        "\n",
        "for i in label:\n",
        "    print(i + ': ' + str(predictions[pic][j]))\n",
        "    j = j+1\n",
        "\n",
        "print(\"Label in dataset: %s\" % (y_test[pic][0]))"
      ],
      "metadata": {
        "id": "4GJvUASYRY_N"
      },
      "execution_count": null,
      "outputs": []
    },
    {
      "cell_type": "code",
      "source": [
        "\n",
        "# predicting lable for test_images\n",
        "predictions=model.predict(X_test)\n",
        "\n",
        "pic = 100\n",
        "\n",
        "plt.figure()\n",
        "plt.imshow(X_test[pic])\n",
        "\n",
        "j = 0\n",
        "\n",
        "for i in label:\n",
        "    print(i + ': ' + str(predictions[pic][j]))\n",
        "    j = j+1\n",
        "\n",
        "print(\"Label in dataset: %s\" % (y_test[pic][0]))"
      ],
      "metadata": {
        "colab": {
          "base_uri": "https://localhost:8080/",
          "height": 457
        },
        "id": "ECPPVPZcUiJo",
        "outputId": "2f87456b-d57f-4ad5-e328-a32ed9266397"
      },
      "execution_count": null,
      "outputs": [
        {
          "output_type": "stream",
          "name": "stdout",
          "text": [
            "Airplane: 4.7496567e-05\n",
            "Automobile: 8.192321e-07\n",
            "Bird: 0.012074408\n",
            "Cat: 0.002119548\n",
            "Deer: 0.9472848\n",
            "Dog: 0.016146462\n",
            "Frog: 5.068748e-05\n",
            "Horse: 0.022258073\n",
            "Ship: 1.045685e-05\n",
            "Truck: 7.1613e-06\n",
            "Label in dataset: 4\n"
          ]
        },
        {
          "output_type": "display_data",
          "data": {
            "text/plain": [
              "<Figure size 432x288 with 1 Axes>"
            ],
            "image/png": "[encoded data removed]"
          },
          "metadata": {
            "needs_background": "light"
          }
        }
      ]
    },
    {
      "cell_type": "markdown",
      "source": [
        "Data Augmention"
      ],
      "metadata": {
        "id": "D9gIgrgKHFl1"
      }
    },
    {
      "cell_type": "code",
      "source": [
        "datagen = tf.keras.preprocessing.image.ImageDataGenerator(width_shift_range=0.1, height_shift_range=0.1, horizontal_flip=True)\n",
        "it_train = datagen.flow(X_train, y_train, batch_size=64)\n",
        "steps = int(X_train.shape[0] / 64)\n",
        "r2 = model.fit(it_train, steps_per_epoch=steps, epochs=10, validation_data=(X_test, y_test))\n",
        "_, acc = model.evaluate(X_test, y_test)\n",
        "print('> %.3f' % (acc * 100.0))\t\n",
        "\n",
        "plt.plot(r2.history['accuracy'], label='acc 2', color='orange')\n",
        "plt.plot(r2.history['val_accuracy'], label='val_acc 2', color='blue')\n",
        "plt.legend()"
      ],
      "metadata": {
        "colab": {
          "base_uri": "https://localhost:8080/",
          "height": 664
        },
        "id": "6LseVtmaHIaA",
        "outputId": "9f89e030-e357-47e8-b504-5d7b947e01f7"
      },
      "execution_count": null,
      "outputs": [
        {
          "output_type": "stream",
          "name": "stdout",
          "text": [
            "Epoch 1/10\n",
            "781/781 [==============================] - 26s 32ms/step - loss: 0.7208 - accuracy: 0.7522 - val_loss: 0.6161 - val_accuracy: 0.7917\n",
            "Epoch 2/10\n",
            "781/781 [==============================] - 28s 36ms/step - loss: 0.6890 - accuracy: 0.7622 - val_loss: 0.6395 - val_accuracy: 0.7821\n",
            "Epoch 3/10\n",
            "781/781 [==============================] - 25s 32ms/step - loss: 0.6724 - accuracy: 0.7674 - val_loss: 0.6098 - val_accuracy: 0.7880\n",
            "Epoch 4/10\n",
            "781/781 [==============================] - 26s 33ms/step - loss: 0.6497 - accuracy: 0.7768 - val_loss: 0.6459 - val_accuracy: 0.7840\n",
            "Epoch 5/10\n",
            "781/781 [==============================] - 25s 32ms/step - loss: 0.6306 - accuracy: 0.7802 - val_loss: 0.5453 - val_accuracy: 0.8132\n",
            "Epoch 6/10\n",
            "781/781 [==============================] - 25s 32ms/step - loss: 0.6207 - accuracy: 0.7859 - val_loss: 0.5421 - val_accuracy: 0.8149\n",
            "Epoch 7/10\n",
            "781/781 [==============================] - 25s 32ms/step - loss: 0.6088 - accuracy: 0.7901 - val_loss: 0.5645 - val_accuracy: 0.8063\n",
            "Epoch 8/10\n",
            "781/781 [==============================] - 25s 32ms/step - loss: 0.5957 - accuracy: 0.7947 - val_loss: 0.5439 - val_accuracy: 0.8130\n",
            "Epoch 9/10\n",
            "781/781 [==============================] - 25s 31ms/step - loss: 0.5818 - accuracy: 0.8009 - val_loss: 0.5517 - val_accuracy: 0.8106\n",
            "Epoch 10/10\n",
            "781/781 [==============================] - 25s 32ms/step - loss: 0.5754 - accuracy: 0.8016 - val_loss: 0.5445 - val_accuracy: 0.8113\n",
            "313/313 [==============================] - 1s 4ms/step - loss: 0.5445 - accuracy: 0.8113\n",
            "> 81.130\n"
          ]
        },
        {
          "output_type": "execute_result",
          "data": {
            "text/plain": [
              "<matplotlib.legend.Legend at 0x7febd3607810>"
            ]
          },
          "metadata": {},
          "execution_count": 16
        },
        {
          "output_type": "display_data",
          "data": {
            "text/plain": [
              "<Figure size 432x288 with 1 Axes>"
            ],
            "image/png": "[encoded data removed]"
          },
          "metadata": {
            "needs_background": "light"
          }
        }
      ]
    }
  ],
  "metadata": {
    "accelerator": "GPU",
    "colab": {
      "collapsed_sections": [],
      "provenance": [],
      "include_colab_link": true
    },
    "gpuClass": "standard",
    "kernelspec": {
      "display_name": "Python 3",
      "name": "python3"
    },
    "language_info": {
      "name": "python"
    }
  },
  "nbformat": 4,
  "nbformat_minor": 0
}